{
 "cells": [
  {
   "cell_type": "markdown",
   "metadata": {},
   "source": [
    "# Задание 1\n",
    "Напишите функцию, которая принимает на вход строку и проверяет является ли она валидным транспортным номером (1 буква, 3 цифры, 2 буквы, 2-3 цифры). Обратите внимание, что не все буквы кириллического алфавита используются в транспортных номерах.\n",
    "\n",
    "Если номер валиден, то функция должна возвращать отдельно номер и регион.\n",
    "\n",
    "Примеры работы программы:\n",
    "\n",
    "car_id = 'АВ222С96’\n",
    "Результат: Номер АВ222С валиден. Регион: 96\n",
    "\n",
    "car_id = 'АБ22ВВ193’\n",
    "Результат: Номер не валиден\n",
    "\n"
   ]
  },
  {
   "cell_type": "code",
   "execution_count": 21,
   "metadata": {},
   "outputs": [],
   "source": [
    "import re\n",
    "\n",
    "def parse_carnum(s):\n",
    "    \"\"\"Проверить и распарсить номер машины (1 буква, 3 цифры, 2 буквы, 2-3 цифры)\n",
    "\n",
    "    Parameters:\n",
    "    s (str): Строка с номером машины\n",
    "\n",
    "    Returns:\n",
    "    (str, str): Кортеж номера и региона, если номер валиден. Иначе None\n",
    "\n",
    "   \"\"\"\n",
    "    carnum_re = r'^([a-zA-Zа-яА-Я]{1,2}\\d{3}[a-zA-Zа-яА-Я]{1,2})(\\d{2,3})$'\n",
    "    res = re.match(carnum_re, s.strip())\n",
    "    if res != None:\n",
    "        return (res[1], res[2])\n",
    "    return res"
   ]
  },
  {
   "cell_type": "code",
   "execution_count": 24,
   "metadata": {},
   "outputs": [
    {
     "name": "stdout",
     "output_type": "stream",
     "text": [
      "Проверка номера: AB322C96\n",
      "Результат: Номер AB322C валиден. Регион: 96\n",
      "Проверка номера: АВ222С962\n",
      "Результат: Номер АВ222С валиден. Регион: 962\n",
      "Проверка номера: Ф2343ЯФ333\n",
      "Результат: Номер не валиден\n"
     ]
    }
   ],
   "source": [
    "car_ids = ['AB322C96', 'АВ222С962', 'Ф2343ЯФ333']\n",
    "for car_id in car_ids:\n",
    "    print(f'Проверка номера: {car_id}')\n",
    "    res = parse_carnum(car_id)\n",
    "    if res != None:\n",
    "        print('Результат: Номер {} валиден. Регион: {}'.format(*res))\n",
    "    else:\n",
    "        print('Результат: Номер не валиден')\n",
    "        \n"
   ]
  },
  {
   "cell_type": "markdown",
   "metadata": {},
   "source": [
    "# Задание 2\n",
    "Напишите функцию, которая будет удалять все последовательные повторы слов из заданной строки при помощи регулярных выражений.\n",
    "\n",
    "Пример работы программы:\n",
    "\n",
    "some_string = ‘Напишите функцию функцию, которая будет будет будет будет удалять все все все все последовательные повторы слов из из из из заданной строки строки при помощи регулярных выражений’\n",
    "\n",
    "Результат: Напишите функцию, которая будет удалять все последовательные повторы слов из заданной строки при помощи регулярных выражений.\n",
    "\n"
   ]
  },
  {
   "cell_type": "code",
   "execution_count": 47,
   "metadata": {},
   "outputs": [],
   "source": [
    "def unique_words_in_seq(str_in, case_sensitive = True):\n",
    "    \"\"\"Удалить повторяющиеся (подряд идущие) одинаковые слова\n",
    "    \n",
    "    Parameters:\n",
    "    str_in (str): строка для обработки.\n",
    "    \n",
    "    Returns:\n",
    "    str: обработанная строка без подряд идущих одинаковых слов\n",
    "    \"\"\"\n",
    "    \n",
    "    parts = re.findall(r'\\w+|\\W+', str_in)\n",
    "    prev_word = ''\n",
    "    res = []    \n",
    "    for p in parts:\n",
    "        if re.match('\\W', p):\n",
    "            res.append(p)\n",
    "            continue\n",
    "        w = p\n",
    "        if not case_sensitive:\n",
    "            w = w.lower()\n",
    "        if w != prev_word:    \n",
    "            res.append(w)\n",
    "        prev_word = w \n",
    "    return ''.join(res)"
   ]
  },
  {
   "cell_type": "code",
   "execution_count": 48,
   "metadata": {},
   "outputs": [
    {
     "name": "stdout",
     "output_type": "stream",
     "text": [
      "Тестовая строка: Напишите функцию функцию, которая будет будет будет будет удалять все все все все последовательные повторы слов из из из из заданной строки строки при помощи регулярных выражений\n",
      "\n",
      "Результат: Напишите функцию , которая будет    удалять все    последовательные повторы слов из    заданной строки  при помощи регулярных выражений\n"
     ]
    }
   ],
   "source": [
    "test_strings = [\n",
    "     'Напишите функцию функцию, которая будет будет будет будет удалять все все все все последовательные повторы слов из из из из заданной строки строки при помощи регулярных выражений'\n",
    "]\n",
    "\n",
    "for s in test_strings:\n",
    "    print(f'Тестовая строка: {s}')\n",
    "    t = unique_words_in_seq(s)\n",
    "    print(f\"\\nРезультат: {t}\")"
   ]
  },
  {
   "cell_type": "markdown",
   "metadata": {},
   "source": [
    "# Задание 3\n",
    "Напишите функцию, которая будет возвращать акроним по переданной в нее строке со словами.\n",
    "\n",
    "Примеры работы программы:\n",
    "\n",
    "some_words = 'Информационные технологии’\n",
    "Результат: ИТ\n",
    "\n",
    "some_words = 'Near Field Communication’\n",
    "Результат: NFC\n",
    "\n"
   ]
  },
  {
   "cell_type": "code",
   "execution_count": 52,
   "metadata": {},
   "outputs": [],
   "source": [
    "def acronym_str(some_str):\n",
    "    \"\"\"Вернуть акроним переданной строке (абревиатуру из первых букв слов)\n",
    "    \n",
    "    Parameters:\n",
    "    some_str (str): строка, из которой будем собирать акроним\n",
    "    \n",
    "    Returns:\n",
    "    str: акроним переданной строке\n",
    "    \"\"\"\n",
    "    chr_re = r'(?:(?<=\\W)|^)\\w'\n",
    "    return ''.join([c.upper() for c in re.findall(chr_re, some_str)])"
   ]
  },
  {
   "cell_type": "code",
   "execution_count": 53,
   "metadata": {},
   "outputs": [
    {
     "name": "stdout",
     "output_type": "stream",
     "text": [
      "Акроним для строки \"Информационные технологии\": ИТ\n",
      "Акроним для строки \"Near Field Communication\": NFC\n",
      "Акроним для строки \"oneword\": O\n",
      "Акроним для строки \"\": \n"
     ]
    }
   ],
   "source": [
    "test_strs = [ \n",
    "    'Информационные технологии',\n",
    "    'Near Field Communication',\n",
    "    'oneword',\n",
    "    ''    \n",
    "]\n",
    "\n",
    "for s in test_strs:\n",
    "    print('Акроним для строки \"{}\": {}'.format(s, acronym_str(s)))"
   ]
  },
  {
   "cell_type": "markdown",
   "metadata": {},
   "source": [
    "# Задание 4\n",
    "Напишите функцию, которая будет принимать на вход список email-адресов и выводить их распределение по доменным зонам.\n",
    "\n",
    "Пример работы программы:\n",
    "\n",
    "emails = [‘test@gmail.com, xyz@test.in, test@ya.ru, xyz@mail.ru, xyz@ya.ru’, xyz@gmail.com]\n",
    "\n",
    "Результат:\n",
    "\n",
    "gmail.com: 2\n",
    "test.in: 1\n",
    "ya.ru: 2\n",
    "mail.ru: 1\n",
    "\n"
   ]
  },
  {
   "cell_type": "code",
   "execution_count": 90,
   "metadata": {},
   "outputs": [],
   "source": [
    "def count_domains(emails, bad_key='bad emails'):\n",
    "    \"\"\"Посчитать домены во входящем списке email-адресов\n",
    "    \n",
    "    Parameters:\n",
    "    emails ([str]): список почтовых адресов\n",
    "    bad_key (str): ключ для невалидных email в результате. По-умолчанию - \"bad emails\"\n",
    "    \n",
    "    Returns:\n",
    "    {str: int} : словарь, где ключ - домен, а значение - кол-во адресов в нём.\n",
    "                 Для невалидных email-ов - ключ bad_key\n",
    "    \"\"\"\n",
    "    domain_re = re.compile(r'(?<=@)([a-zA-Z0-9][a-zA-Z0-9-]{0,61}[a-zA-Z0-9]\\.)+[a-zA-Z]{2,}$')\n",
    "    res = {}\n",
    "    for eml in emails:\n",
    "        m = re.search(domain_re, eml.strip())\n",
    "        if m != None:\n",
    "            dmn = m[0]\n",
    "            res[dmn] = res.get(dmn,0) + 1            \n",
    "        else:\n",
    "            res[bad_key] = res.get(bad_key, 0) + 1\n",
    "    \n",
    "    return res"
   ]
  },
  {
   "cell_type": "code",
   "execution_count": 91,
   "metadata": {},
   "outputs": [
    {
     "name": "stdout",
     "output_type": "stream",
     "text": [
      "gmail.com: 2\n",
      "test.in: 1\n",
      "ya.ru: 2\n",
      "mail.ru: 1\n",
      "bad emails: 3\n",
      "my.mail.com: 1\n"
     ]
    }
   ],
   "source": [
    "emails = ['test@gmail.com', 'xyz@test.in', 'test@ya.ru', 'xyz@mail.ru', 'xyz@ya.ru', 'xyz@gmail.com',\n",
    "         'asdf', '',  '', # 3 невалидных\n",
    "          's@my.mail.com' # 1 третьего уровня домен\n",
    "         ]\n",
    "\n",
    "res = count_domains(emails)\n",
    "print(\"\\n\".join([f'{k}: {v}' for k, v in res.items()]))"
   ]
  },
  {
   "cell_type": "markdown",
   "metadata": {},
   "source": [
    "# Задание 5 (необязательное)\n",
    "\n",
    "Напишите функцию, которая будет подсчитывать сколько слов начинается на гласные, а сколько на согласные буквы в тексте (текст может быть написан как с использованием букв кириллицы, так и латиницы).\n",
    "\n",
    "Пример работы программы:\n",
    "\n",
    "some_text = ‘Эталонной реализацией Python является интерпретатор CPython, поддерживающий большинство активно используемых платформ. Он распространяется под свободной лицензией Python Software Foundation License, позволяющей использовать его без ограничений в любых приложениях, включая проприетарные.’\n",
    "\n",
    "Результат:\n",
    "\n",
    "Слов на гласные буквы: 9\n",
    "Слов на согласные буквы: 21\n",
    "\n"
   ]
  },
  {
   "cell_type": "code",
   "execution_count": 107,
   "metadata": {},
   "outputs": [],
   "source": [
    "def count_vowels_and_consonants(s):\n",
    "    \"\"\"Подсчитать кол-во слов, начинающихся на гласные и согласные (рус/англ)\n",
    "    \n",
    "    Parameters:\n",
    "    s (str): строка для анализа\n",
    "    \n",
    "    Returns:\n",
    "    (int,int): вернуть кортеж из кол-ва слов, начинающихся на гласные и согласные\n",
    "    \"\"\"\n",
    "    \n",
    "    vowels_chrs         = 'aeiouафоэиуыуеёюя'\n",
    "    vowels_words_re     = f'(?<!\\w)[{vowels_chrs}]'\n",
    "    consonants_words_re = f'(?<!\\w)[^{vowels_chrs}]'\n",
    "    cnt_vowels     = len(re.findall(vowels_words_re, s.lower()))\n",
    "    # удалим всё, что не есть буква\n",
    "    consonants_str = re.sub(r'[^a-zа-я]','', ''.join(re.findall(consonants_words_re, s.lower())))\n",
    "    cnt_consonants = len(consonants_str)\n",
    "    \n",
    "    return (cnt_vowels, cnt_consonants)"
   ]
  },
  {
   "cell_type": "code",
   "execution_count": 108,
   "metadata": {},
   "outputs": [
    {
     "name": "stdout",
     "output_type": "stream",
     "text": [
      "Слов на гласные буквы: 9\n",
      "Слов на согласные буквы: 21\n"
     ]
    }
   ],
   "source": [
    "some_text = 'Эталонной реализацией Python является интерпретатор CPython, поддерживающий большинство активно используемых платформ. Он распространяется под свободной лицензией Python Software Foundation License, позволяющей использовать его без ограничений в любых приложениях, включая проприетарные.'\n",
    "\n",
    "res = count_vowels_and_consonants(some_text)\n",
    "\n",
    "print(f\"Слов на гласные буквы: {res[0]}\\nСлов на согласные буквы: {res[1]}\")\n"
   ]
  },
  {
   "cell_type": "markdown",
   "metadata": {},
   "source": [
    "# Задание 6 (необязательное)\n",
    "\n",
    "Напишите функцию, которая будет проверять номер сотового телефона на валидность, если он валиден, то переводить его в формат:\n",
    "+7-xxx-xxx-xx-xx\n",
    "Постарайтесь предусмотреть как можно больше адекватных форматов изначального ввода номера. Примеры работы программы:\n",
    "\n",
    "phone = '+7 955 555-55-55’\n",
    "Результат: +7-950-555-55-55\n",
    "\n",
    "phone = '8(955)555-55-55’\n",
    "Результат: +7-950-555-55-55\n",
    "\n",
    "phone = '+7 955 555 55 55’\n",
    "Результат: +7-950-555-55-55\n",
    "\n",
    "phone = '7(955) 555-55-55’\n",
    "Результат: +7-950-555-55-55\n",
    "\n",
    "phone = '423-555-55-5555’\n",
    "Результат: Номер не валиден\n",
    "\n",
    "phone = '123-456-789’\n",
    "Результат: Номер не валиден"
   ]
  },
  {
   "cell_type": "code",
   "execution_count": 124,
   "metadata": {},
   "outputs": [],
   "source": [
    "def parse_phone(pnum):\n",
    "    \"\"\" Проверить номер телефона на валидность для +7 и привести к стандартному формату.\n",
    "    \n",
    "    Parameters:\n",
    "    pnum (str): строка с номером телефона для обработки\n",
    "    \n",
    "    Returns:\n",
    "    str: Строка в формате  +7-xxx-xxx-xx-xx или None (если номер невалиден)\n",
    "    \n",
    "    \"\"\"\n",
    "    \n",
    "    clear_re = r'[-\\s()+]'\n",
    "    pnum_re  = r'(7|8)(\\d{3})(\\d{7})'\n",
    "    pnum = re.sub(clear_re, '', pnum.strip())\n",
    "    m    = re.match(pnum_re, pnum)\n",
    "    if m == None:\n",
    "        return None\n",
    "    return '+7-{}-{}-{}-{}'.format(m[2], m[3][0:3], m[3][3:5], m[3][5:7])"
   ]
  },
  {
   "cell_type": "code",
   "execution_count": 126,
   "metadata": {},
   "outputs": [
    {
     "name": "stdout",
     "output_type": "stream",
     "text": [
      "cleared: 79555555555\n",
      "Проверка номера \"+7 955 555-55-55\". Результат: +7-955-555-55-55\n",
      "cleared: 89261234567\n",
      "Проверка номера \"8(926)123-45-67\". Результат: +7-926-123-45-67\n",
      "cleared: 79555555555\n",
      "Проверка номера \"+7 955 555 55 55\". Результат: +7-955-555-55-55\n",
      "cleared: 79555555555\n",
      "Проверка номера \"7(955) 555-55-55\". Результат: +7-955-555-55-55\n",
      "cleared: 423555555555\n",
      "Проверка номера \"423-555-55-5555\". Результат: Номер не валиден\n",
      "cleared: 123456789\n",
      "Проверка номера \"123-456-789\". Результат: Номер не валиден\n"
     ]
    }
   ],
   "source": [
    "test_pnums = [\n",
    "    '+7 955 555-55-55',\n",
    "    '8(926)123-45-67',\n",
    "    '+7 955 555 55 55', '7(955) 555-55-55', \n",
    "    '423-555-55-5555', '123-456-789' # невалид\n",
    "]\n",
    "\n",
    "for pnum in test_pnums:\n",
    "    res = parse_phone(pnum)\n",
    "    if res == None:\n",
    "        res = 'Номер не валиден'\n",
    "    print('Проверка номера \"{}\". Результат: {}'.format(pnum, res))"
   ]
  }
 ],
 "metadata": {
  "kernelspec": {
   "display_name": "Python 3",
   "language": "python",
   "name": "python3"
  },
  "language_info": {
   "codemirror_mode": {
    "name": "ipython",
    "version": 3
   },
   "file_extension": ".py",
   "mimetype": "text/x-python",
   "name": "python",
   "nbconvert_exporter": "python",
   "pygments_lexer": "ipython3",
   "version": "3.7.4"
  }
 },
 "nbformat": 4,
 "nbformat_minor": 2
}
