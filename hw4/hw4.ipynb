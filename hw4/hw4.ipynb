{
 "cells": [
  {
   "cell_type": "markdown",
   "metadata": {},
   "source": [
    "**Задание 1**. Дан список с визитами по городам и странам. \n",
    "Напишите код, который возвращает отфильтрованный список geo_logs, содержащий только визиты из России."
   ]
  },
  {
   "cell_type": "code",
   "execution_count": 8,
   "metadata": {},
   "outputs": [
    {
     "data": {
      "text/plain": [
       "[{'visit1': ['Москва', 'Россия']},\n",
       " {'visit3': ['Владимир', 'Россия']},\n",
       " {'visit7': ['Тула', 'Россия']},\n",
       " {'visit8': ['Тула', 'Россия']},\n",
       " {'visit9': ['Курск', 'Россия']},\n",
       " {'visit10': ['Архангельск', 'Россия']}]"
      ]
     },
     "execution_count": 8,
     "metadata": {},
     "output_type": "execute_result"
    }
   ],
   "source": [
    "geo_logs = [\n",
    "    {'visit1': ['Москва', 'Россия']},\n",
    "    {'visit2': ['Дели', 'Индия']},\n",
    "    {'visit3': ['Владимир', 'Россия']},\n",
    "    {'visit4': ['Лиссабон', 'Португалия']},\n",
    "    {'visit5': ['Париж', 'Франция']},\n",
    "    {'visit6': ['Лиссабон', 'Португалия']},\n",
    "    {'visit7': ['Тула', 'Россия']},\n",
    "    {'visit8': ['Тула', 'Россия']},\n",
    "    {'visit9': ['Курск', 'Россия']},\n",
    "    {'visit10': ['Архангельск', 'Россия']}\n",
    "]\n",
    "\n",
    "filter_val = 'Россия'.lower()\n",
    "filter_idx = 1\n",
    "\n",
    "filtered_list = [log for log in geo_logs if list(log.values())[0][filter_idx].lower() == filter_val]\n",
    "filtered_list"
   ]
  },
  {
   "cell_type": "markdown",
   "metadata": {},
   "source": [
    "**Задание 2**. Выведите на экран все уникальные гео-ID из значений словаря ids. Т. е. список вида [213, 15, 54, 119, 98, 35]"
   ]
  },
  {
   "cell_type": "code",
   "execution_count": 16,
   "metadata": {},
   "outputs": [
    {
     "name": "stdout",
     "output_type": "stream",
     "text": [
      "Unique ids: [213, 15, 54, 119, 98, 35]\n",
      "Unique ids with set: [98, 35, 213, 54, 119, 15]\n"
     ]
    }
   ],
   "source": [
    "ids = {'user1': [213, 213, 213, 15, 213], \n",
    "       'user2': [54, 54, 119, 119, 119], \n",
    "       'user3': [213, 98, 98, 35]}\n",
    "\n",
    "# \"в лоб\"\n",
    "uniq_ids = []\n",
    "for ids_vals in ids.values():\n",
    "    for val in ids_vals:\n",
    "        if val not in uniq_ids:\n",
    "            uniq_ids.append(val)\n",
    "\n",
    "print( f'Unique ids: { uniq_ids }')\n",
    "\n",
    "# вариант с множеством \n",
    "uniq_ids = set()\n",
    "for ids_vals in ids.values():\n",
    "    uniq_ids |= set(ids_vals)\n",
    "\n",
    "print( f'Unique ids with set: { list(uniq_ids) }')"
   ]
  },
  {
   "cell_type": "markdown",
   "metadata": {},
   "source": [
    "**Задание 3**. Дан список поисковых запросов. Получить распределение количества слов в них. \n",
    "Т. е. поисковых запросов из одного - слова 5%, из двух - 7%, из трех - 3% и т.д."
   ]
  },
  {
   "cell_type": "code",
   "execution_count": 27,
   "metadata": {},
   "outputs": [
    {
     "data": {
      "text/plain": [
       "{3: 44.44444444444444, 2: 44.44444444444444, 1: 11.11111111111111}"
      ]
     },
     "execution_count": 27,
     "metadata": {},
     "output_type": "execute_result"
    }
   ],
   "source": [
    "queries = [\n",
    "    'смотреть сериалы онлайн',\n",
    "    'новости спорта',\n",
    "    'афиша кино',\n",
    "    'курс доллара',\n",
    "    'сериалы этим летом',\n",
    "    'курс по питону',\n",
    "    'сериалы про спорт',\n",
    "    '  asdf  asdf', # проверка на множественные пробелы\n",
    "    ' single_word   '\n",
    "]\n",
    "\n",
    "queries_words_counts = {}\n",
    "\n",
    "for q in queries:\n",
    "    w_cnt = len(q.split())\n",
    "    queries_words_counts[w_cnt] = queries_words_counts.get(w_cnt, 0) + 1\n",
    "\n",
    "qnum = len(queries)\n",
    "for k in queries_words_counts:\n",
    "    queries_words_counts[k] = float(queries_words_counts[k])/qnum*100\n",
    "\n",
    "queries_words_counts"
   ]
  },
  {
   "cell_type": "markdown",
   "metadata": {},
   "source": [
    "**Задание 4**. Дана статистика рекламных каналов по объемам продаж. Напишите скрипт, который возвращает название канала с максимальным объемом.\n",
    "Т. е. в данном примере скрипт должен возвращать 'yandex'."
   ]
  },
  {
   "cell_type": "code",
   "execution_count": 32,
   "metadata": {},
   "outputs": [
    {
     "name": "stdout",
     "output_type": "stream",
     "text": [
      "Max value channel: yandex\n"
     ]
    }
   ],
   "source": [
    "stats = {'facebook': 55, 'yandex': 120, 'vk': 115, 'google': 99, 'email': 42, 'ok': 98}\n",
    "\n",
    "max_key = None\n",
    "max_val = None\n",
    "\n",
    "for k in stats:\n",
    "    if max_key == None or stats[k] > max_val:\n",
    "        max_key = k\n",
    "        max_val = stats[max_key]\n",
    "\n",
    "print(f'Max value channel: { max_key }')"
   ]
  },
  {
   "cell_type": "markdown",
   "metadata": {},
   "source": [
    "**Задание 5**. Напишите код для преобразования произвольного списка вида ['2018-01-01', 'yandex', 'cpc', 100] (он может быть любой длины) в словарь {'2018-01-01': {'yandex': {'cpc': 100}}}"
   ]
  },
  {
   "cell_type": "code",
   "execution_count": 65,
   "metadata": {},
   "outputs": [
    {
     "name": "stdout",
     "output_type": "stream",
     "text": [
      "Variant 1: {'2018-01-01': {'yandex': {'cpc': {100: {-3: {'asdf': 0}}}}}}\n",
      "Variant 2: {'2018-01-01': {'yandex': {'cpc': {100: {-3: {'asdf': 0}}}}}}\n"
     ]
    }
   ],
   "source": [
    "input_list = ['2018-01-01', 'yandex', 'cpc', 100, -3, 'asdf', 0]\n",
    "\n",
    "# вариант 1. Прямой\n",
    "res = {input_list[0]: input_list[1:len(input_list)]}\n",
    "last_dict = res\n",
    "last_key  = input_list[0]\n",
    "\n",
    "while type(last_dict[last_key]) == list:\n",
    "    l = last_dict[last_key]\n",
    "    if len(l) > 1:        \n",
    "        new_last_dict = {l[0]: l[1:len(l)]}\n",
    "        last_dict[last_key] = new_last_dict\n",
    "        last_dict           = new_last_dict\n",
    "        last_key            = l[0]\n",
    "    else:\n",
    "        last_dict[last_key] = l[0]\n",
    "\n",
    "print(f'Variant 1: { res }')\n",
    "\n",
    "# вариант 2. собираем \"с конца\"\n",
    "res = {input_list[-2]: input_list[-1]}\n",
    "for i in range(len(input_list)-3,-1,-1):\n",
    "    res = {input_list[i]: res}\n",
    "    \n",
    "print(f'Variant 2: { res }')"
   ]
  }
 ],
 "metadata": {
  "kernelspec": {
   "display_name": "Python 3",
   "language": "python",
   "name": "python3"
  },
  "language_info": {
   "codemirror_mode": {
    "name": "ipython",
    "version": 3
   },
   "file_extension": ".py",
   "mimetype": "text/x-python",
   "name": "python",
   "nbconvert_exporter": "python",
   "pygments_lexer": "ipython3",
   "version": "3.7.4"
  }
 },
 "nbformat": 4,
 "nbformat_minor": 2
}
