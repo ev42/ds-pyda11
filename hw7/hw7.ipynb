{
 "cells": [
  {
   "cell_type": "markdown",
   "metadata": {},
   "source": [
    "### Задание 1\n",
    "Печатные газеты использовали свой формат дат для каждого выпуска. Для каждой газеты из списка напишите формат указанной даты для перевода в объект datetime:  \n",
    "The Moscow Times - Wednesday, October 2, 2002  \n",
    "The Guardian - Friday, 11.10.13  \n",
    "Daily News - Thursday, 18 August 1977  "
   ]
  },
  {
   "cell_type": "code",
   "execution_count": 43,
   "metadata": {},
   "outputs": [
    {
     "name": "stdout",
     "output_type": "stream",
     "text": [
      "Parsed: 2002-10-02 00:00:00\n",
      "Parsed: 2013-10-11 00:00:00\n",
      "Check day: Friday, 11.10.13\n",
      "Parsed correct: 1977-08-18 00:00:00\n"
     ]
    }
   ],
   "source": [
    "from datetime import datetime\n",
    "\n",
    "# The Moscow Times - Wednesday, October 2, 2002  \n",
    "tdate = 'Wednesday, October 2, 2002'\n",
    "msc_times_format = '%A, %B %d, %Y'\n",
    "print('Parsed: {}'.format(datetime.strptime(tdate, msc_times_format)))\n",
    "\n",
    "\n",
    "# The Guardian - Friday, 11.10.13  \n",
    "tdate = 'Friday, 11.10.13'\n",
    "guardian_format = '%A, %d.%m.%y' \n",
    "dt = datetime.strptime(tdate, guardian_format)\n",
    "print('Parsed: {}'.format(dt))\n",
    "print('Check day: {}'.format(dt.strftime(guardian_format))) # всё ок\n",
    "\n",
    "# Daily News - Thursday, 18 August 1977 \n",
    "tdate = 'Thursday, 18 August 1977'\n",
    "dnews_format = '%A, %d %B %Y'\n",
    "dt = datetime.strptime(tdate, dnews_format)\n",
    "# на эту проверку натолкнул формат Guardian\n",
    "if dt.strftime(dnews_format) == tdate: \n",
    "    print('Parsed correct: {}'.format(dt))\n",
    "else:\n",
    "    print('Wrong format \"{}\". Parsed date: {}'.format(dnews_format, dt))"
   ]
  },
  {
   "cell_type": "markdown",
   "metadata": {},
   "source": [
    "### Задание 2\n",
    "Дан поток дат в формате YYYY-MM-DD, в которых встречаются некорректные значения: \n",
    "\n",
    "stream = [‘2018-04-02’, ‘2018-02-29’, ‘2018-19-02’]\n",
    "\n",
    "Напишите функцию, которая проверяет эти даты на корректность. Т. е. для каждой даты возвращает True (дата корректна) или False (некорректная дата).\n"
   ]
  },
  {
   "cell_type": "code",
   "execution_count": 17,
   "metadata": {},
   "outputs": [
    {
     "name": "stdout",
     "output_type": "stream",
     "text": [
      "[False, False, True, True, True, True, False, False]\n",
      "[False, False, False, False, False, False, False, True]\n"
     ]
    }
   ],
   "source": [
    "from datetime import datetime\n",
    "\n",
    "# для входного потока dates_stream \n",
    "# проверяет на соответствие дат формату fmt\n",
    "# возвращает список True|False в зависимости от соответствия элемента по fmt\n",
    "def check_dates(dates_stream, fmt = '%Y-%m-%d'):\n",
    "    res = []\n",
    "    for dt in dates_stream:\n",
    "        try:\n",
    "            datetime.strptime(dt, fmt) # если конвертация удалась - всё ок\n",
    "            res.append(True)\n",
    "        except:            \n",
    "            res.append(False)\n",
    "    return res\n",
    "\n",
    "# тесты\n",
    "stream = [\n",
    "    '2012-12,12','asdf',\n",
    "    '2018-12-12', '2017-11-11',\n",
    "    '2018-12-30', '2019-01-02',\n",
    "    datetime(2019,12,11), '2019.12.11'\n",
    "]\n",
    "print( check_dates(stream) )\n",
    "print( check_dates(stream, '%Y.%m.%d') )"
   ]
  },
  {
   "cell_type": "markdown",
   "metadata": {},
   "source": [
    "### Задание 3\n",
    "Напишите функцию date_range, которая возвращает список дней между датами start_date и end_date. Даты должны вводиться в формате YYYY-MM-DD. В случае неверного формата или при start_date > end_date должен возвращаться пустой список.\n",
    "\n"
   ]
  },
  {
   "cell_type": "code",
   "execution_count": 23,
   "metadata": {},
   "outputs": [
    {
     "name": "stdout",
     "output_type": "stream",
     "text": [
      "Result for 2012-12,12..asdf: []\n",
      "Result for 2018-12-12..2017-11-11: []\n",
      "Result for 2018-12-30..2019-01-02: [datetime.datetime(2018, 12, 30, 0, 0), datetime.datetime(2018, 12, 31, 0, 0), datetime.datetime(2019, 1, 1, 0, 0), datetime.datetime(2019, 1, 2, 0, 0)]\n",
      "Result for 2019-12-11 00:00:00..2019-12-11: [datetime.datetime(2019, 12, 11, 0, 0)]\n"
     ]
    }
   ],
   "source": [
    "from datetime import datetime\n",
    "from datetime import timedelta\n",
    "\n",
    "\n",
    "# убедиться что val имеет тип Date и вернуть его как Date\n",
    "# если это не так - сконвертить в Date по формату fmt\n",
    "def date_value(val, fmt = '%Y-%m-%d'):\n",
    "    if isinstance(val, datetime):\n",
    "        return val\n",
    "    val = str(val)\n",
    "    return datetime.strptime(val, fmt)\n",
    "\n",
    "# вернуть список дней (дат) между заданными [sdate,edate] (включительно)\n",
    "# sdate - строка даты начала (в формате YYYY-MM-DD)\n",
    "# edate - строка даты конца (в формате YYYY-MM-DD)\n",
    "# Возвращает:\n",
    "#   список дат - если всё ок\n",
    "#   пустой список - если что-то не так\n",
    "def list_days(sdate, edate):\n",
    "    try:\n",
    "        sdate = date_value(sdate)\n",
    "        edate = date_value(edate)\n",
    "\n",
    "        if sdate > edate:\n",
    "            raise Exception('start date must be less than end date')\n",
    "            \n",
    "        return [sdate+timedelta(days=i) for i in range((edate-sdate).days+1)]\n",
    "            \n",
    "    except:\n",
    "        return []\n",
    "    \n",
    "    \n",
    "tests = [\n",
    "    ('2012-12,12','asdf'),        # неверный формат\n",
    "    ('2018-12-12', '2017-11-11'), # неверный порядок дат\n",
    "    ('2018-12-30', '2019-01-02'), # должно быть всё ок\n",
    "    (datetime(2019,12,11), '2019-12-11') # проверка и по типам, должно быть ок\n",
    "]\n",
    "\n",
    "for sdate, edate in tests:        \n",
    "    res = list_days(sdate, edate)\n",
    "    print('Result for {}..{}: {}'.format(sdate,edate,res))    "
   ]
  },
  {
   "cell_type": "code",
   "execution_count": 26,
   "metadata": {},
   "outputs": [
    {
     "data": {
      "text/plain": [
       "[]"
      ]
     },
     "execution_count": 26,
     "metadata": {},
     "output_type": "execute_result"
    }
   ],
   "source": [
    "# неверный формат\n",
    "list_days('01.02.2020', '2020-03-01')"
   ]
  },
  {
   "cell_type": "markdown",
   "metadata": {},
   "source": [
    "### Задание 4 (бонусное)\n",
    "Ваш коллега прислал код функции:\n",
    "\n",
    "```\n",
    "DEFAULT_USER_COUNT = 3\n",
    "\n",
    "def delete_and_return_last_user(region, default_list=[‘A100’, ‘A101’, ‘A102’]):\n",
    "\"\"“\n",
    "Удаляет из списка default_list последнего пользователя\n",
    "и возвращает ID нового последнего пользователя.\n",
    "”\"\"\n",
    "element_to_delete = default_list[-1]\n",
    "default_list.remove(element_to_delete)\n",
    "\n",
    "return default_list[DEFAULT_USER_COUNT-2]\n",
    "При однократном вызове этой функции все работает корректно:\n",
    "delete_and_return_last_user(1)\n",
    "‘A101’\n",
    "```\n",
    "\n",
    "Однако, при повторном вызове получается ошибка IndexError: list index out of range.\n",
    "\n",
    "Задание:\n",
    "\n",
    "1. Что значит ошибка list index out of range?\n",
    "2. Почему при первом запуске функция работает корректно, а при втором - нет?"
   ]
  },
  {
   "cell_type": "code",
   "execution_count": 34,
   "metadata": {},
   "outputs": [],
   "source": [
    "DEFAULT_USER_COUNT = 3\n",
    "\n",
    "def delete_and_return_last_user(region, default_list=['A100', 'A101', 'A102']):\n",
    "    \"\"\"\n",
    "    Удаляет из списка default_list последнего пользователя\n",
    "    и возвращает ID нового последнего пользователя.\n",
    "    \"\"\"\n",
    "    element_to_delete = default_list[-1]\n",
    "    default_list.remove(element_to_delete)\n",
    "\n",
    "    return default_list[DEFAULT_USER_COUNT-2]\n"
   ]
  },
  {
   "cell_type": "code",
   "execution_count": 35,
   "metadata": {},
   "outputs": [
    {
     "data": {
      "text/plain": [
       "'A101'"
      ]
     },
     "execution_count": 35,
     "metadata": {},
     "output_type": "execute_result"
    }
   ],
   "source": [
    "delete_and_return_last_user(1)"
   ]
  },
  {
   "cell_type": "code",
   "execution_count": 36,
   "metadata": {},
   "outputs": [
    {
     "ename": "IndexError",
     "evalue": "list index out of range",
     "output_type": "error",
     "traceback": [
      "\u001b[0;31m---------------------------------------------------------------------------\u001b[0m",
      "\u001b[0;31mIndexError\u001b[0m                                Traceback (most recent call last)",
      "\u001b[0;32m<ipython-input-36-bfb6c4f8c48e>\u001b[0m in \u001b[0;36m<module>\u001b[0;34m\u001b[0m\n\u001b[0;32m----> 1\u001b[0;31m \u001b[0mdelete_and_return_last_user\u001b[0m\u001b[0;34m(\u001b[0m\u001b[0;36m1\u001b[0m\u001b[0;34m)\u001b[0m\u001b[0;34m\u001b[0m\u001b[0;34m\u001b[0m\u001b[0m\n\u001b[0m",
      "\u001b[0;32m<ipython-input-34-62baa56d5abd>\u001b[0m in \u001b[0;36mdelete_and_return_last_user\u001b[0;34m(region, default_list)\u001b[0m\n\u001b[1;32m      9\u001b[0m     \u001b[0mdefault_list\u001b[0m\u001b[0;34m.\u001b[0m\u001b[0mremove\u001b[0m\u001b[0;34m(\u001b[0m\u001b[0melement_to_delete\u001b[0m\u001b[0;34m)\u001b[0m\u001b[0;34m\u001b[0m\u001b[0;34m\u001b[0m\u001b[0m\n\u001b[1;32m     10\u001b[0m \u001b[0;34m\u001b[0m\u001b[0m\n\u001b[0;32m---> 11\u001b[0;31m     \u001b[0;32mreturn\u001b[0m \u001b[0mdefault_list\u001b[0m\u001b[0;34m[\u001b[0m\u001b[0mDEFAULT_USER_COUNT\u001b[0m\u001b[0;34m-\u001b[0m\u001b[0;36m2\u001b[0m\u001b[0;34m]\u001b[0m\u001b[0;34m\u001b[0m\u001b[0;34m\u001b[0m\u001b[0m\n\u001b[0m",
      "\u001b[0;31mIndexError\u001b[0m: list index out of range"
     ]
    }
   ],
   "source": [
    "delete_and_return_last_user(1)"
   ]
  },
  {
   "cell_type": "markdown",
   "metadata": {},
   "source": [
    "IndexError: list index out of range - элемент в списке не найден, отсутствтует\n",
    "Причина в default_list - значение по-умолчанию инициализируется одним и тем же экземпляром списка.\n",
    "Данный экземпляр создаётся при первом вызове функции ``delete_and_return_last_user``. Метод remove изменяет \n",
    "данный объект, как результат - при повторном вызове длина массива становится равна 1 и мы не можем вернуть элемент\n",
    "списка с индексом (1) - его нет.  \n",
    "Вариант патча ниже:"
   ]
  },
  {
   "cell_type": "code",
   "execution_count": 49,
   "metadata": {},
   "outputs": [
    {
     "data": {
      "text/plain": [
       "'a'"
      ]
     },
     "execution_count": 49,
     "metadata": {},
     "output_type": "execute_result"
    }
   ],
   "source": [
    "def delete_and_return_last_user_patch_v1(region, default_list=None):\n",
    "    \"\"\"\n",
    "    Удаляет из списка default_list последнего пользователя\n",
    "    и возвращает ID нового последнего пользователя.\n",
    "    \"\"\"\n",
    "    if default_list is None:\n",
    "        default_list = ['A100', 'a', 'b']\n",
    "    element_to_delete = default_list[-1]\n",
    "    default_list.remove(element_to_delete)\n",
    "\n",
    "    if len(default_list) == 0:\n",
    "        return None\n",
    "    return default_list[-1]\n",
    "\n",
    "delete_and_return_last_user_patch_v1(1)"
   ]
  }
 ],
 "metadata": {
  "kernelspec": {
   "display_name": "Python 3",
   "language": "python",
   "name": "python3"
  },
  "language_info": {
   "codemirror_mode": {
    "name": "ipython",
    "version": 3
   },
   "file_extension": ".py",
   "mimetype": "text/x-python",
   "name": "python",
   "nbconvert_exporter": "python",
   "pygments_lexer": "ipython3",
   "version": "3.7.4"
  }
 },
 "nbformat": 4,
 "nbformat_minor": 2
}
