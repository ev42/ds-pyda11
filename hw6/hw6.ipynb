{
 "cells": [
  {
   "cell_type": "markdown",
   "metadata": {},
   "source": [
    "# Домашнее задание\n",
    "1. Переведите содержимое файла purchase_log.txt в словарь purchases вида:\n",
    "```python\n",
    "{'1840e0b9d4': 'Продукты', ...}\n",
    "```\n",
    "\n"
   ]
  },
  {
   "cell_type": "code",
   "execution_count": 7,
   "metadata": {},
   "outputs": [],
   "source": [
    "import json\n",
    "\n",
    "# распарсить файл fname в словарь, где ключ - user_id, \n",
    "# а значение - категория покупки.\n",
    "# Аргументы:\n",
    "#   fname - имя файла которое парсим. Каждая строка - json: {\"user_id\": \"string\", \"category\": \"string\"}\n",
    "#   skip_first_line - пропускать первую строку (если она заголовок). По-умолчанию - True\n",
    "# Возвращает:\n",
    "#   {\"<user_id>\": \"<category>\", ...}\n",
    "def parse_purchases(fname, skip_first_line=True):\n",
    "    res = {}\n",
    "    with open(fname, 'r') as fin:\n",
    "        if skip_first_line:\n",
    "            next(fin)\n",
    "        for ln in fin:\n",
    "            j = json.loads(ln)            \n",
    "            res[j['user_id']] = j['category']\n",
    "    return res\n",
    "\n",
    "# распарсить файл fname в словарь, где ключ - user_id, \n",
    "# а значение - список категорий покупки у пользователя.\n",
    "# Аргументы:\n",
    "#   fname - имя файла которое парсим. Каждая строка - json: {\"user_id\": \"string\", \"category\": \"string\"}\n",
    "#   skip_first_line - пропускать первую строку (если она заголовок). По-умолчанию - True\n",
    "# Возвращает:\n",
    "#   {\"<user_id>\": [\"<category>\",...], ...}\n",
    "def parse_purchases_arr(fname, skip_first_line=True):\n",
    "    res = {}\n",
    "    with open(fname, 'r') as fin:\n",
    "        if skip_first_line:\n",
    "            next(fin)\n",
    "        for ln in fin:\n",
    "            j = json.loads(ln)  \n",
    "            if j['user_id'] not in res:\n",
    "                res[j['user_id']] = []\n",
    "            res[j['user_id']].append(j['category']) # можно и с уникальностью проверять\n",
    "            \n",
    "    return res\n",
    "    "
   ]
  },
  {
   "cell_type": "code",
   "execution_count": 5,
   "metadata": {},
   "outputs": [
    {
     "data": {
      "text/plain": [
       "99517"
      ]
     },
     "execution_count": 5,
     "metadata": {},
     "output_type": "execute_result"
    }
   ],
   "source": [
    "len(parse_purchases('purchase_log.txt'))"
   ]
  },
  {
   "cell_type": "code",
   "execution_count": 8,
   "metadata": {},
   "outputs": [
    {
     "data": {
      "text/plain": [
       "99517"
      ]
     },
     "execution_count": 8,
     "metadata": {},
     "output_type": "execute_result"
    }
   ],
   "source": [
    "len(parse_purchases_arr('purchase_log.txt')) # это реализация была избыточно для задачи )"
   ]
  },
  {
   "cell_type": "markdown",
   "metadata": {},
   "source": [
    "2. Для каждого user_id в файле visit_log.csv определите третий столбец с категорией покупки (если покупка была, сам файл visit_log.csv изменять не надо). Запишите в файл funnel.csv визиты из файла visit_log.csv, в которых были покупки с указанием категории.\n",
    "\n",
    "Учтите условия на данные:\n",
    "- содержимое purchase_log.txt помещается в оперативную память компьютера\n",
    "- содержимое visit_log.csv - нет; используйте только построчную обработку этого файла"
   ]
  },
  {
   "cell_type": "code",
   "execution_count": 26,
   "metadata": {},
   "outputs": [
    {
     "name": "stdout",
     "output_type": "stream",
     "text": [
      "# first 5 lines of \"visit_log.csv\"\n",
      "user_id,source\n",
      "6450655ae8,other\n",
      "b4ea53e670,other\n",
      "0e37347152,other\n",
      "96064ae9e0,other\n",
      "\n",
      "# first 5 lines of \"purchase_log.txt\"\n",
      "{\"user_id\": \"user_id\", \"category\": \"category\"}\n",
      "{\"user_id\": \"1840e0b9d4\", \"category\": \"Продукты\"}\n",
      "{\"user_id\": \"4e4f90fcfb\", \"category\": \"Электроника\"}\n",
      "{\"user_id\": \"afea8d72fc\", \"category\": \"Электроника\"}\n",
      "{\"user_id\": \"373a6055fe\", \"category\": \"Бытовая техника\"}\n"
     ]
    }
   ],
   "source": [
    "def head(fname, lines_num = 5):\n",
    "    print('# first {} lines of \"{}\"'.format(lines_num, fname))\n",
    "    with open(fname, 'r') as f:\n",
    "        for _ in range(lines_num):\n",
    "            print(next(f).strip())\n",
    "            \n",
    "# посмотрим что в visit_log.csv & purchase_log.txt \n",
    "head('visit_log.csv')\n",
    "print()\n",
    "head('purchase_log.txt')# как будто что-то изменилось)"
   ]
  },
  {
   "cell_type": "code",
   "execution_count": 28,
   "metadata": {},
   "outputs": [],
   "source": [
    "# конвертируем visits_fname -> out_fname добавлением категории покупки у пользователя (если такая есть)\n",
    "def visits_to_funnels(visits_fname, purchases_fname, out_fname, uid_idx = 0):\n",
    "    users_purchases = parse_purchases(purchases_fname)\n",
    "    with open(visits_fname, 'r') as fin, open(out_fname, 'w') as fout:\n",
    "        hdr = next(fin).strip() + \",category\"\n",
    "        fout.write(hdr+\"\\n\")\n",
    "        for ln in fin:\n",
    "            flds    = ln.strip().split(\",\")\n",
    "            if flds[uid_idx] in users_purchases:\n",
    "                cat = users_purchases[ flds[uid_idx] ] \n",
    "                fout.write(\",\".join(flds+[ cat ] )+\"\\n\")\n",
    "    "
   ]
  },
  {
   "cell_type": "code",
   "execution_count": 29,
   "metadata": {},
   "outputs": [
    {
     "name": "stdout",
     "output_type": "stream",
     "text": [
      "# first 5 lines of \"/tmp/funnel.csv\"\n",
      "user_id,source,category\n",
      "1840e0b9d4,other,Продукты\n",
      "4e4f90fcfb,context,Электроника\n",
      "afea8d72fc,other,Электроника\n",
      "2824221f38,email,Продукты\n"
     ]
    }
   ],
   "source": [
    "visits_to_funnels('visit_log.csv', 'purchase_log.txt', '/tmp/funnel.csv')\n",
    "head('/tmp/funnel.csv')"
   ]
  }
 ],
 "metadata": {
  "kernelspec": {
   "display_name": "Python 3",
   "language": "python",
   "name": "python3"
  },
  "language_info": {
   "codemirror_mode": {
    "name": "ipython",
    "version": 3
   },
   "file_extension": ".py",
   "mimetype": "text/x-python",
   "name": "python",
   "nbconvert_exporter": "python",
   "pygments_lexer": "ipython3",
   "version": "3.7.4"
  }
 },
 "nbformat": 4,
 "nbformat_minor": 2
}
