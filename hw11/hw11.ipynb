{
 "cells": [
  {
   "cell_type": "markdown",
   "metadata": {},
   "source": [
    "## Задание 1\n",
    "Скачайте с сайта https://grouplens.org/datasets/movielens/ датасет любого размера. Определите какому фильму было выставлено больше всего оценок 5.0.\n",
    "\n"
   ]
  },
  {
   "cell_type": "code",
   "execution_count": 52,
   "metadata": {},
   "outputs": [
    {
     "name": "stdout",
     "output_type": "stream",
     "text": [
      "Top rated movieId: 318\n",
      "Most rated with 5.0 movie is: Shawshank Redemption, The (1994)\n"
     ]
    }
   ],
   "source": [
    "import pandas as pd\n",
    "\n",
    "# movies/ratings.csv - оценки пользователей\n",
    "ratings = pd.read_csv('movies/ratings.csv')\n",
    "movies  = pd.read_csv('movies/movies.csv').set_index('movieId')\n",
    "top_movies = ratings[ratings.rating == 5.0]['movieId']\n",
    "\n",
    "# по-умолчанию результат value_counts идёт по-убыванию\n",
    "top_movieId = top_movies.value_counts().index[0]\n",
    "\n",
    "print('Top rated movieId: {}'.format(top_movieId))\n",
    "print('Most rated with 5.0 movie is: {}'.format(movies['title'][top_movieId]))"
   ]
  },
  {
   "cell_type": "markdown",
   "metadata": {},
   "source": [
    "## Задание 2\n",
    "По данным файла power.csv посчитайте суммарное потребление стран Прибалтики (Латвия, Литва и Эстония) категорий 4, 12 и 21 за период с 2005 по 2010 года. Не учитывайте в расчетах отрицательные значения quantity.\n",
    "\n"
   ]
  },
  {
   "cell_type": "code",
   "execution_count": 93,
   "metadata": {},
   "outputs": [
    {
     "data": {
      "text/html": [
       "<div>\n",
       "<style scoped>\n",
       "    .dataframe tbody tr th:only-of-type {\n",
       "        vertical-align: middle;\n",
       "    }\n",
       "\n",
       "    .dataframe tbody tr th {\n",
       "        vertical-align: top;\n",
       "    }\n",
       "\n",
       "    .dataframe thead th {\n",
       "        text-align: right;\n",
       "    }\n",
       "</style>\n",
       "<table border=\"1\" class=\"dataframe\">\n",
       "  <thead>\n",
       "    <tr style=\"text-align: right;\">\n",
       "      <th></th>\n",
       "      <th>country</th>\n",
       "      <th>year</th>\n",
       "      <th>quantity</th>\n",
       "      <th>category</th>\n",
       "    </tr>\n",
       "  </thead>\n",
       "  <tbody>\n",
       "    <tr>\n",
       "      <th>0</th>\n",
       "      <td>Austria</td>\n",
       "      <td>1996</td>\n",
       "      <td>5.0</td>\n",
       "      <td>1</td>\n",
       "    </tr>\n",
       "    <tr>\n",
       "      <th>1</th>\n",
       "      <td>Austria</td>\n",
       "      <td>1995</td>\n",
       "      <td>17.0</td>\n",
       "      <td>1</td>\n",
       "    </tr>\n",
       "    <tr>\n",
       "      <th>2</th>\n",
       "      <td>Belgium</td>\n",
       "      <td>2014</td>\n",
       "      <td>0.0</td>\n",
       "      <td>1</td>\n",
       "    </tr>\n",
       "    <tr>\n",
       "      <th>3</th>\n",
       "      <td>Belgium</td>\n",
       "      <td>2013</td>\n",
       "      <td>0.0</td>\n",
       "      <td>1</td>\n",
       "    </tr>\n",
       "    <tr>\n",
       "      <th>4</th>\n",
       "      <td>Belgium</td>\n",
       "      <td>2012</td>\n",
       "      <td>35.0</td>\n",
       "      <td>1</td>\n",
       "    </tr>\n",
       "  </tbody>\n",
       "</table>\n",
       "</div>"
      ],
      "text/plain": [
       "   country  year  quantity  category\n",
       "0  Austria  1996       5.0         1\n",
       "1  Austria  1995      17.0         1\n",
       "2  Belgium  2014       0.0         1\n",
       "3  Belgium  2013       0.0         1\n",
       "4  Belgium  2012      35.0         1"
      ]
     },
     "execution_count": 93,
     "metadata": {},
     "output_type": "execute_result"
    }
   ],
   "source": [
    "import pandas as pd\n",
    "\n",
    "df = pd.read_csv('power.csv')\n",
    "df.head()"
   ]
  },
  {
   "cell_type": "code",
   "execution_count": 94,
   "metadata": {},
   "outputs": [
    {
     "name": "stdout",
     "output_type": "stream",
     "text": [
      "Summary power consumption: 240481.0\n"
     ]
    }
   ],
   "source": [
    "countries  = 'latvia lithuania estonia'.split()\n",
    "categories = [4, 12, 21]\n",
    "years      = range(2005, 2011)\n",
    "\n",
    "countries_rows = df.country.str.lower().isin(countries) \n",
    "categories_rows= df.category.isin(categories)\n",
    "other_rows = df.year.isin(years) & df.quantity > 0.0 \n",
    "qsum = df[countries_rows & categories_rows & other_rows ].quantity.sum()\n",
    "\n",
    "print('Summary power consumption: {}'.format(qsum))"
   ]
  },
  {
   "cell_type": "markdown",
   "metadata": {},
   "source": [
    "## Задание 3\n",
    "Выберите страницу любого сайта с табличными данными. Импортируйте таблицы в pandas dataframe.\n",
    "Примеры страниц (необязательно брать именно эти):\n",
    "https://fortrader.org/quotes\n",
    "https://www.finanz.ru/valyuty/v-realnom-vremeni\n",
    "\n"
   ]
  },
  {
   "cell_type": "code",
   "execution_count": 151,
   "metadata": {},
   "outputs": [],
   "source": [
    "import pandas as pd\n",
    "\n",
    "def parse_moex_etfs(src_url='https://www.moex.com/msn/etf', skip_cols=None, index_col=None):\n",
    "    \"\"\"\n",
    "    Спарсить таблицу etf мосбиржи. Вернёт или dataframe или кинет исключение.\n",
    "    \n",
    "    Parameters:\n",
    "      src_url(str) : url for parsing table.\n",
    "      skip_cols([str]) : columns names to skip\n",
    "      \n",
    "    Returns:\n",
    "      pandas.DataFrame для стянутых данных.\n",
    "    \"\"\"\n",
    "    \n",
    "    def str2int(s):\n",
    "        \"\"\"\n",
    "        Вспомогательная функция конвертации строки в целое, чтобы \n",
    "        пропуска промежуточные заголовки\n",
    "        \"\"\"\n",
    "        try:\n",
    "            return int(s)\n",
    "        except:\n",
    "            return None\n",
    "    \n",
    "    if not skip_cols:\n",
    "        skip_cols = ['№', 'презентация']\n",
    "        \n",
    "    tbl_attrs = {\"class\": \"table1\"}\n",
    "    converters= {'№': str2int}\n",
    "    tables = pd.read_html(src_url, attrs=tbl_attrs, converters=converters)\n",
    "    if len(tables) != 1:\n",
    "        raise Exception(\"Expected exactly 1 table on '{}' with table attrs: {}\".format(src_url, tbl_attrs))\n",
    "    res = tables[0].dropna()\n",
    "    res = res[[c for c in res.columns if c.lower() not in skip_cols]]\n",
    "    if index_col:\n",
    "        res = res.set_index(index_col)\n",
    "    return res\n",
    "\n",
    "df = parse_moex_etfs(index_col='Тикер')"
   ]
  },
  {
   "cell_type": "code",
   "execution_count": 148,
   "metadata": {},
   "outputs": [
    {
     "data": {
      "text/html": [
       "<div>\n",
       "<style scoped>\n",
       "    .dataframe tbody tr th:only-of-type {\n",
       "        vertical-align: middle;\n",
       "    }\n",
       "\n",
       "    .dataframe tbody tr th {\n",
       "        vertical-align: top;\n",
       "    }\n",
       "\n",
       "    .dataframe thead th {\n",
       "        text-align: right;\n",
       "    }\n",
       "</style>\n",
       "<table border=\"1\" class=\"dataframe\">\n",
       "  <thead>\n",
       "    <tr style=\"text-align: right;\">\n",
       "      <th></th>\n",
       "      <th>Фонд</th>\n",
       "      <th>Наименование Провайдера</th>\n",
       "      <th>Базовый актив</th>\n",
       "      <th>Валюта  iNAV</th>\n",
       "      <th>Формат</th>\n",
       "    </tr>\n",
       "    <tr>\n",
       "      <th>Тикер</th>\n",
       "      <th></th>\n",
       "      <th></th>\n",
       "      <th></th>\n",
       "      <th></th>\n",
       "      <th></th>\n",
       "    </tr>\n",
       "  </thead>\n",
       "  <tbody>\n",
       "    <tr>\n",
       "      <th>FXRB</th>\n",
       "      <td>FinEx Tradable Russian  Corporate Bonds UCITS ...</td>\n",
       "      <td>FinEx Funds plc  (ФинЭкс Фандс плс)</td>\n",
       "      <td>Индекс российских корпоративных облигаций EMRU...</td>\n",
       "      <td>₽</td>\n",
       "      <td>ETF</td>\n",
       "    </tr>\n",
       "    <tr>\n",
       "      <th>FXRU</th>\n",
       "      <td>FinEx Tradable Russian  Corporate Bonds UCITS ...</td>\n",
       "      <td>FinEx Funds plc  (ФинЭкс Фандс плс)</td>\n",
       "      <td>Индекс российских корпоративных облигаций EMRU...</td>\n",
       "      <td>$</td>\n",
       "      <td>ETF</td>\n",
       "    </tr>\n",
       "    <tr>\n",
       "      <th>RUSB</th>\n",
       "      <td>ITI Funds Russia-focused USD</td>\n",
       "      <td>ITI Funds  (АйТиАй Фандс)</td>\n",
       "      <td>ITI Funds Russia-focused USD Eurobond Index (I...</td>\n",
       "      <td>$</td>\n",
       "      <td>ETF</td>\n",
       "    </tr>\n",
       "    <tr>\n",
       "      <th>SBCB</th>\n",
       "      <td>Сбербанк – Индекс МосБиржи российских ликвидны...</td>\n",
       "      <td>АО \"Сбербанк Управление Активами\"</td>\n",
       "      <td>Индекс МосБиржи российских ликвидных еврооблиг...</td>\n",
       "      <td>₽/$</td>\n",
       "      <td>БПИФ</td>\n",
       "    </tr>\n",
       "    <tr>\n",
       "      <th>VTBB</th>\n",
       "      <td>ВТБ – Российские корпоративные облигации смарт...</td>\n",
       "      <td>АО ВТБ Капитал Управление активами (ВТБК УА)</td>\n",
       "      <td>Индекс корпоративных облигаций (RUCBITR)</td>\n",
       "      <td>₽</td>\n",
       "      <td>БПИФ</td>\n",
       "    </tr>\n",
       "  </tbody>\n",
       "</table>\n",
       "</div>"
      ],
      "text/plain": [
       "                                                    Фонд  \\\n",
       "Тикер                                                      \n",
       "FXRB   FinEx Tradable Russian  Corporate Bonds UCITS ...   \n",
       "FXRU   FinEx Tradable Russian  Corporate Bonds UCITS ...   \n",
       "RUSB                        ITI Funds Russia-focused USD   \n",
       "SBCB   Сбербанк – Индекс МосБиржи российских ликвидны...   \n",
       "VTBB   ВТБ – Российские корпоративные облигации смарт...   \n",
       "\n",
       "                            Наименование Провайдера  \\\n",
       "Тикер                                                 \n",
       "FXRB            FinEx Funds plc  (ФинЭкс Фандс плс)   \n",
       "FXRU            FinEx Funds plc  (ФинЭкс Фандс плс)   \n",
       "RUSB                      ITI Funds  (АйТиАй Фандс)   \n",
       "SBCB              АО \"Сбербанк Управление Активами\"   \n",
       "VTBB   АО ВТБ Капитал Управление активами (ВТБК УА)   \n",
       "\n",
       "                                           Базовый актив Валюта  iNAV Формат  \n",
       "Тикер                                                                         \n",
       "FXRB   Индекс российских корпоративных облигаций EMRU...            ₽    ETF  \n",
       "FXRU   Индекс российских корпоративных облигаций EMRU...            $    ETF  \n",
       "RUSB   ITI Funds Russia-focused USD Eurobond Index (I...            $    ETF  \n",
       "SBCB   Индекс МосБиржи российских ликвидных еврооблиг...          ₽/$   БПИФ  \n",
       "VTBB            Индекс корпоративных облигаций (RUCBITR)            ₽   БПИФ  "
      ]
     },
     "execution_count": 148,
     "metadata": {},
     "output_type": "execute_result"
    }
   ],
   "source": [
    "df.head()"
   ]
  }
 ],
 "metadata": {
  "kernelspec": {
   "display_name": "Python 3",
   "language": "python",
   "name": "python3"
  },
  "language_info": {
   "codemirror_mode": {
    "name": "ipython",
    "version": 3
   },
   "file_extension": ".py",
   "mimetype": "text/x-python",
   "name": "python",
   "nbconvert_exporter": "python",
   "pygments_lexer": "ipython3",
   "version": "3.8.3"
  }
 },
 "nbformat": 4,
 "nbformat_minor": 4
}
