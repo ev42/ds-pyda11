{
 "cells": [
  {
   "cell_type": "markdown",
   "metadata": {},
   "source": [
    "**Задание 1**. Даны 2 строки: *long_phrase* и *short_phrase*. \n",
    "Напишите код, который проверяет действительно ли длинная фраза *long_phrase* длиннее короткой *short_phrase*. И выводит *True* или *False* в зависимости от результата сравнения."
   ]
  },
  {
   "cell_type": "code",
   "execution_count": 1,
   "metadata": {},
   "outputs": [],
   "source": [
    "long_phrase = 'Насколько проще было бы писать программы, если бы не заказчики'\n",
    "short_phrase = '640Кб должно хватить для любых задач. Билл Гейтс (по легенде)'"
   ]
  },
  {
   "cell_type": "code",
   "execution_count": 5,
   "metadata": {},
   "outputs": [
    {
     "name": "stdout",
     "output_type": "stream",
     "text": [
      "True\n",
      "False\n"
     ]
    }
   ],
   "source": [
    "# исходная постановка\n",
    "print(len(long_phrase) > len(short_phrase))\n",
    "\n",
    "# проверка (удвоим строку)\n",
    "print(len(long_phrase) > len(short_phrase*2))"
   ]
  },
  {
   "cell_type": "markdown",
   "metadata": {},
   "source": [
    "**Задание 2**. Дано значение объема файла в байтах (*в мегабайте 2^20 байт*). Напишите перевод этого значения в мегабайты в формате: \"*Объем файла равен 213.68Mb*\"."
   ]
  },
  {
   "cell_type": "code",
   "execution_count": 14,
   "metadata": {},
   "outputs": [
    {
     "name": "stdout",
     "output_type": "stream",
     "text": [
      "Объем файла равен 213.68Mb\n"
     ]
    }
   ],
   "source": [
    "bytes_sz = 213*1024*1024+700*1024\n",
    "\n",
    "mb_sz = bytes_sz/(1024.0**2)\n",
    "\n",
    "print('Объем файла равен {}Mb'.format(round(mb_sz,2)))"
   ]
  },
  {
   "cell_type": "markdown",
   "metadata": {},
   "source": [
    "**Задание 3**. Разработать приложение для определения знака зодиака по дате рождения. Пример:\n",
    "\n",
    "Введите месяц: март\n",
    "\n",
    "Введите число: 6\n",
    "\n",
    "Вывод:\n",
    "Рыбы"
   ]
  },
  {
   "cell_type": "code",
   "execution_count": 28,
   "metadata": {},
   "outputs": [
    {
     "name": "stdout",
     "output_type": "stream",
     "text": [
      "Введите месяц: январь\n",
      "Введите число: 5\n",
      "Вывод:  Козерог\n"
     ]
    }
   ],
   "source": [
    "\n",
    "month = input('Введите месяц: ').lower()\n",
    "day   = int(input('Введите число: '))\n",
    "\n",
    "\n",
    "if day < 0 or day > 32:\n",
    "    # минимальная проверка по диапозону\n",
    "    print('День месяца неверный')\n",
    "else:\n",
    "    result= 'Что ты такое?'\n",
    "    if month == \"март\":\n",
    "        if day < 21:\n",
    "            result = 'Рыбы'\n",
    "        else:\n",
    "            result = 'Овен'\n",
    "    elif month == 'апрель':    \n",
    "        if day < 20:\n",
    "            result = 'Овен'\n",
    "        else:\n",
    "            result = 'Телец'\n",
    "    elif month == 'май':    \n",
    "        if day < 21:\n",
    "            result = 'Телец'\n",
    "        else:\n",
    "            result = 'Близнецы'\n",
    "    elif month == \"июнь\":\n",
    "        if day < 21:\n",
    "            result = 'Близнецы'\n",
    "        else:\n",
    "            result = 'Рак'\n",
    "    elif month == 'июль':    \n",
    "        if day < 23:\n",
    "            result = 'Рак'\n",
    "        else:\n",
    "            result = 'Лев'\n",
    "    elif month == 'август':    \n",
    "        if day < 23:\n",
    "            result = 'Лев'\n",
    "        else:\n",
    "            result = 'Дева'\n",
    "    elif month == 'сентябрь':    \n",
    "        if day < 23:\n",
    "            result = 'Дева'\n",
    "        else:\n",
    "            result = 'Весы'\n",
    "    elif month == 'октябрь':    \n",
    "        if day < 23:\n",
    "            result = 'Весы'\n",
    "        else:\n",
    "            result = 'Скорпион'      \n",
    "    elif month == 'ноябрь':    \n",
    "        if day < 22:\n",
    "            result = 'Скорпион'\n",
    "        else:\n",
    "            result = 'Стрелец'\n",
    "    elif month == 'декабрь':    \n",
    "        if day < 21:\n",
    "            result = 'Стрелец'\n",
    "        else:\n",
    "            result = 'Козерог'\n",
    "    elif month == 'январь':    \n",
    "        if day < 20:\n",
    "            result = 'Козерог'\n",
    "        else:\n",
    "            result = 'Водолей'\n",
    "    elif month == 'февраль':    \n",
    "        if day < 19:\n",
    "            result = 'Водолей'\n",
    "        else:\n",
    "            result = 'Рыбы'     \n",
    "\n",
    "    print('Вывод: ', result)"
   ]
  },
  {
   "cell_type": "markdown",
   "metadata": {},
   "source": [
    "**Задание 4**. Нужно разработать приложение для финансового планирования.\n",
    "Приложение учитывает сколько уходит на ипотеку, \"на жизнь\" и сколько нужно отложить на пенсию.\n",
    "Пользователь вводит:\n",
    "- заработанную плату в месяц.\n",
    "- сколько процентов от ЗП уходит на ипотеку.\n",
    "- сколько процентов от ЗП уходит \"на жизнь\".\n",
    "- сколько раз приходит премия в год.\n",
    "\n",
    "Остальная часть заработанной платы откладывается на пенсию.\n",
    "\n",
    "Также пользователю приходит премия в размере зарплаты, от которой половина уходит на отпуск, а вторая половина откладывается.\n",
    "\n",
    "Программа должна учитывать сколько премий было в год.\n",
    "\n",
    "Нужно вывести сколько денег тратит пользователь на ипотеку и сколько он накопит за год.\n",
    "\n",
    "Пример:\n",
    "\n",
    "Введите заработанную плату в месяц: 100000\n",
    "\n",
    "Введите сколько процентов уходит на ипотеку: 30\n",
    "\n",
    "Введите сколько процентов уходит на жизнь: 50\n",
    "\n",
    "Введите количество премий за год: 2\n",
    "\n",
    "Вывод:\n",
    "На ипотеку было потрачено: 360000 рублей\n",
    "Было накоплено: 340000 рублей"
   ]
  },
  {
   "cell_type": "code",
   "execution_count": 29,
   "metadata": {},
   "outputs": [
    {
     "name": "stdout",
     "output_type": "stream",
     "text": [
      "Введите заработанную плату в месяц:100000\n",
      "Введите сколько процентов уходит на ипотеку:30\n",
      "Введите сколько процентов уходит на жизнь:50\n",
      "Введите количество премий за год:2\n",
      "\n",
      "На ипотеку было потрачено: 360000.0 рублей\n",
      "Было накоплено: 340000.0 рублей\n"
     ]
    }
   ],
   "source": [
    "month_salary = float(input('Введите заработанную плату в месяц:'))\n",
    "mortgage_pct = float(input('Введите сколько процентов уходит на ипотеку:'))\n",
    "life_pct     = float(input('Введите сколько процентов уходит на жизнь:'))\n",
    "bonuses_num  = int(input('Введите количество премий за год:'))\n",
    "\n",
    "mortgage    = month_salary*12*0.01*mortgage_pct\n",
    "accumulated = month_salary*12*0.01*(100-mortgage_pct-life_pct)\n",
    "accumulated = accumulated + 0.5*month_salary*bonuses_num\n",
    "\n",
    "print(\"\\nНа ипотеку было потрачено: {} рублей\\nБыло накоплено: {} рублей\".format(mortgage, accumulated))"
   ]
  }
 ],
 "metadata": {
  "kernelspec": {
   "display_name": "Python 3",
   "language": "python",
   "name": "python3"
  },
  "language_info": {
   "codemirror_mode": {
    "name": "ipython",
    "version": 3
   },
   "file_extension": ".py",
   "mimetype": "text/x-python",
   "name": "python",
   "nbconvert_exporter": "python",
   "pygments_lexer": "ipython3",
   "version": "3.7.4"
  }
 },
 "nbformat": 4,
 "nbformat_minor": 2
}
