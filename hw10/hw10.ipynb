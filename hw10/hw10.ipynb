{
 "cells": [
  {
   "cell_type": "markdown",
   "metadata": {},
   "source": [
    "## Задание 1\n",
    "Создайте numpy array с элементами от числа N до 0 (например, для N = 10 это будет array([9, 8, 7, 6, 5, 4, 3, 2, 1, 0])).\n",
    "\n"
   ]
  },
  {
   "cell_type": "code",
   "execution_count": 17,
   "metadata": {},
   "outputs": [
    {
     "name": "stdout",
     "output_type": "stream",
     "text": [
      "[9 8 7 6 5 4 3 2 1 0]\n",
      "[9 8 7 6 5 4 3 2 1 0]\n",
      "[9 8 7 6 5 4 3 2 1 0]\n"
     ]
    }
   ],
   "source": [
    "import numpy as np\n",
    "\n",
    "# используем arange\n",
    "N   = 10\n",
    "arr = np.arange(N-1, -1, -1)\n",
    "print(arr)\n",
    "\n",
    "# с генератором \n",
    "print(np.array(range(N-1, -1, -1)))\n",
    "\n",
    "# перевернём\n",
    "print(np.array(range(0,N))[::-1])"
   ]
  },
  {
   "cell_type": "markdown",
   "metadata": {},
   "source": [
    "## Задание 2\n",
    "Создайте диагональную матрицу с элементами от N до 0. Посчитайте сумму ее значений на диагонали.\n",
    "\n"
   ]
  },
  {
   "cell_type": "code",
   "execution_count": 40,
   "metadata": {},
   "outputs": [
    {
     "name": "stdout",
     "output_type": "stream",
     "text": [
      "diagonals sum: 55\n",
      "Just sum: 55\n"
     ]
    }
   ],
   "source": [
    "N=10\n",
    "m = np.diag(range(N,-1,-1))\n",
    "\n",
    "print( 'diagonals sum: {}'.format(sum([m[i][i] for i in range(m.shape[0])])))\n",
    "# матрица диагональная, можно просто всё проссумировать\n",
    "print('Just sum: '+str(m.sum()))"
   ]
  },
  {
   "cell_type": "markdown",
   "metadata": {},
   "source": [
    "## Задание 3\n",
    "Решите систему уравнений:  \n",
    "4x + 2y + z = 4  \n",
    "x + 3y = 12  \n",
    "5y + 4z = -3  "
   ]
  },
  {
   "cell_type": "code",
   "execution_count": 131,
   "metadata": {},
   "outputs": [
    {
     "name": "stdout",
     "output_type": "stream",
     "text": [
      "Solution: [ 0.46666667  3.84444444 -5.55555556]\n",
      "[ 4. 12. -3.]\n",
      "[ True False  True]\n",
      "11.999999999999998\n",
      "True\n"
     ]
    }
   ],
   "source": [
    "import numpy.linalg as linalg\n",
    "# уравнение от 3ёх переменных\n",
    "a = np.array([4, 2, 1,\n",
    "              1, 3, 0,\n",
    "              0, 5, 4]).reshape(3,3)\n",
    "b = np.array([4, 12, -3]).astype(float)\n",
    "\n",
    "x = linalg.solve(a, b)\n",
    "\n",
    "print('Solution: {}'.format(x))\n",
    "\n",
    "# проверим\n",
    "bx = np.dot(a,x)\n",
    "print(bx) # вроде да...\n",
    "print(bx == b) # или нет?\n",
    "print(bx[1]) # нет?\n",
    "print(np.allclose( np.dot(a, x ), b)) # вроде таки да, с точностью 1е-8"
   ]
  },
  {
   "cell_type": "code",
   "execution_count": 117,
   "metadata": {},
   "outputs": [
    {
     "data": {
      "text/plain": [
       "array([ 4, 11, -3])"
      ]
     },
     "execution_count": 117,
     "metadata": {},
     "output_type": "execute_result"
    }
   ],
   "source": [
    "np.dot(a,x).astype(int)"
   ]
  }
 ],
 "metadata": {
  "kernelspec": {
   "display_name": "Python 3",
   "language": "python",
   "name": "python3"
  },
  "language_info": {
   "codemirror_mode": {
    "name": "ipython",
    "version": 3
   },
   "file_extension": ".py",
   "mimetype": "text/x-python",
   "name": "python",
   "nbconvert_exporter": "python",
   "pygments_lexer": "ipython3",
   "version": "3.7.4"
  }
 },
 "nbformat": 4,
 "nbformat_minor": 2
}
